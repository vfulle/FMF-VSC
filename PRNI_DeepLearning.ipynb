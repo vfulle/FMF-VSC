{
  "nbformat": 4,
  "nbformat_minor": 0,
  "metadata": {
    "kernelspec": {
      "display_name": "Python 3",
      "language": "python",
      "name": "python3"
    },
    "language_info": {
      "codemirror_mode": {
        "name": "ipython",
        "version": 3
      },
      "file_extension": ".py",
      "mimetype": "text/x-python",
      "name": "python",
      "nbconvert_exporter": "python",
      "pygments_lexer": "ipython3",
      "version": "3.6.10"
    },
    "colab": {
      "name": "PRNI_DeepLearning.ipynb",
      "provenance": [],
      "collapsed_sections": [],
      "include_colab_link": true
    }
  },
  "cells": [
    {
      "cell_type": "markdown",
      "metadata": {
        "id": "view-in-github",
        "colab_type": "text"
      },
      "source": [
        "<a href=\"https://colab.research.google.com/github/vfulle/FMF-VSC/blob/master/PRNI_DeepLearning.ipynb\" target=\"_parent\"><img src=\"https://colab.research.google.com/assets/colab-badge.svg\" alt=\"Open In Colab\"/></a>"
      ]
    },
    {
      "cell_type": "markdown",
      "metadata": {
        "id": "Pxvv-_C4E2i-",
        "colab_type": "text"
      },
      "source": [
        "# PRNI Tutorial - Deep Learning\n",
        "In this tutorial you will learn to build neural network architectures with Keras."
      ]
    },
    {
      "cell_type": "code",
      "metadata": {
        "id": "iIoEJ1zUE2jB",
        "colab_type": "code",
        "colab": {}
      },
      "source": [
        "import numpy as np\n",
        "import matplotlib.pyplot as plt\n",
        "\n",
        "from tensorflow import keras"
      ],
      "execution_count": null,
      "outputs": []
    },
    {
      "cell_type": "markdown",
      "metadata": {
        "id": "akB_TIOcE2jG",
        "colab_type": "text"
      },
      "source": [
        "## The dataset\n",
        "We load the dataset and inspect it."
      ]
    },
    {
      "cell_type": "code",
      "metadata": {
        "id": "6_ESmQTrE2jH",
        "colab_type": "code",
        "colab": {}
      },
      "source": [
        "(x_train, y_train), (x_test, y_test) = keras.datasets.cifar10.load_data()"
      ],
      "execution_count": null,
      "outputs": []
    },
    {
      "cell_type": "code",
      "metadata": {
        "id": "3UfK1weGE2jL",
        "colab_type": "code",
        "colab": {}
      },
      "source": [
        "x_train.shape"
      ],
      "execution_count": null,
      "outputs": []
    },
    {
      "cell_type": "code",
      "metadata": {
        "id": "3WHYy4DAE2jR",
        "colab_type": "code",
        "colab": {}
      },
      "source": [
        "y_train.shape"
      ],
      "execution_count": null,
      "outputs": []
    },
    {
      "cell_type": "code",
      "metadata": {
        "id": "Pk5d8WIGE2jV",
        "colab_type": "code",
        "colab": {}
      },
      "source": [
        "x_test.shape"
      ],
      "execution_count": null,
      "outputs": []
    },
    {
      "cell_type": "code",
      "metadata": {
        "id": "-lpquZZAE2jZ",
        "colab_type": "code",
        "colab": {}
      },
      "source": [
        "y_test.shape"
      ],
      "execution_count": null,
      "outputs": []
    },
    {
      "cell_type": "code",
      "metadata": {
        "id": "Z5CZBkkZE2je",
        "colab_type": "code",
        "colab": {}
      },
      "source": [
        "np.unique(y_train)"
      ],
      "execution_count": null,
      "outputs": []
    },
    {
      "cell_type": "markdown",
      "metadata": {
        "id": "wd5wg3I4E2jl",
        "colab_type": "text"
      },
      "source": [
        "We have 50,000 training samples and 10,000 test samples. Inputs are color images (3 colors) of size 32 x 32, and the output is a digit between 0 and 9. These correspond to the following categories:"
      ]
    },
    {
      "cell_type": "code",
      "metadata": {
        "id": "yxfktQ4oE2jm",
        "colab_type": "code",
        "colab": {}
      },
      "source": [
        "labels = {0: 'airplane',\n",
        "          1: 'automobile',\n",
        "          2: 'bird',\n",
        "          3: 'cat',\n",
        "          4: 'deer',\n",
        "          5: 'dog',\n",
        "          6: 'frog',\n",
        "          7: 'horse',\n",
        "          8: 'ship',\n",
        "          9: 'truck'\n",
        "          }"
      ],
      "execution_count": null,
      "outputs": []
    },
    {
      "cell_type": "markdown",
      "metadata": {
        "id": "qDmOQnLmE2jp",
        "colab_type": "text"
      },
      "source": [
        "Let's plot some of the input images and their labels."
      ]
    },
    {
      "cell_type": "code",
      "metadata": {
        "id": "wb326JefE2jp",
        "colab_type": "code",
        "colab": {}
      },
      "source": [
        "fig, axes = plt.subplots(2,5, figsize=(17,7))\n",
        "\n",
        "for row in range(2):\n",
        "    for col in range(5):\n",
        "        axes[row,col].imshow(x_train[col+row*5])\n",
        "        axes[row,col].set_title(labels[y_train[col+row*5][0]] + ' ({})'.format(y_train[col+row*5][0]))"
      ],
      "execution_count": null,
      "outputs": []
    },
    {
      "cell_type": "markdown",
      "metadata": {
        "id": "-nnmrDd0E2jv",
        "colab_type": "text"
      },
      "source": [
        "## Preprocessing\n",
        "Luckily we don't have to do much preprocessing on this dataset, but one thing we have to do is flatten the 3-dimensional input datasets, change the scale of the input from RGB values (0 to 255) to values between 0 and 1, and make the output a categorical variable."
      ]
    },
    {
      "cell_type": "code",
      "metadata": {
        "id": "RhxSRkDvE2jw",
        "colab_type": "code",
        "colab": {}
      },
      "source": [
        "x_train = x_train.reshape(x_train.shape[0], -1) / 255.0\n",
        "x_test = x_test.reshape(x_test.shape[0], -1) / 255.0\n",
        "y_train = keras.utils.to_categorical(y_train)\n",
        "y_test = keras.utils.to_categorical(y_test)"
      ],
      "execution_count": null,
      "outputs": []
    },
    {
      "cell_type": "code",
      "metadata": {
        "id": "mzna3-igE2jz",
        "colab_type": "code",
        "colab": {}
      },
      "source": [
        "# dimension of the input to the model\n",
        "input_dim = x_train.shape[1]"
      ],
      "execution_count": null,
      "outputs": []
    },
    {
      "cell_type": "markdown",
      "metadata": {
        "id": "u8xav4noE2j3",
        "colab_type": "text"
      },
      "source": [
        "## A very simple neural nework\n",
        "We start out with a network with one fully connected hidden layer with 50 neurons and a relu (rectified linear unit) activation function. The output layer should have the same number of neurons as we have output classes, and the softmax activation function."
      ]
    },
    {
      "cell_type": "code",
      "metadata": {
        "id": "YnmaTC9DE2j4",
        "colab_type": "code",
        "colab": {}
      },
      "source": [
        "from tensorflow.keras.models import Sequential\n",
        "from tensorflow.keras.layers import Dense"
      ],
      "execution_count": null,
      "outputs": []
    },
    {
      "cell_type": "code",
      "metadata": {
        "id": "5y2rG15VE2j7",
        "colab_type": "code",
        "colab": {}
      },
      "source": [
        "model = Sequential()\n",
        "model.add(Dense(50, input_dim=input_dim, activation='relu'))\n",
        "model.add(Dense(10, activation='softmax'))"
      ],
      "execution_count": null,
      "outputs": []
    },
    {
      "cell_type": "markdown",
      "metadata": {
        "id": "qg5FZDyqE2kA",
        "colab_type": "text"
      },
      "source": [
        "Before we can use the model, we have to compile it. We also define a loss function, optimizer, and a list of metrics that we want to examine. (We can only define one loss function, but monitor several metrics.)"
      ]
    },
    {
      "cell_type": "code",
      "metadata": {
        "id": "iBqQxLN3E2kB",
        "colab_type": "code",
        "colab": {}
      },
      "source": [
        "model.compile(loss='categorical_crossentropy', optimizer='adam', metrics=['accuracy'])"
      ],
      "execution_count": null,
      "outputs": []
    },
    {
      "cell_type": "markdown",
      "metadata": {
        "id": "K1TfcwpBE2kH",
        "colab_type": "text"
      },
      "source": [
        "Now we can fit (train) the model with the training data. The number of times the model will go through the training data is called epochs. The validation set (in this case 10% of the trainig data) is used to evaluate each epoch."
      ]
    },
    {
      "cell_type": "code",
      "metadata": {
        "scrolled": false,
        "id": "20aqH_NHE2kI",
        "colab_type": "code",
        "colab": {}
      },
      "source": [
        "model.fit(x_train, y_train, epochs=10, validation_split=0.1)"
      ],
      "execution_count": null,
      "outputs": []
    },
    {
      "cell_type": "markdown",
      "metadata": {
        "id": "pKTvijKFE2kQ",
        "colab_type": "text"
      },
      "source": [
        "The **training accuracy** is 0.258, which is not very good yet. (You might get a different value when running the notebook, since the inizialization of the network is random). Let's now look at the **test accuracy** by evaluating our model on the test set."
      ]
    },
    {
      "cell_type": "code",
      "metadata": {
        "id": "IblH0qe0E2kQ",
        "colab_type": "code",
        "colab": {}
      },
      "source": [
        "_, test_acc = model.evaluate(x_test, y_test)\n",
        "print(test_acc)"
      ],
      "execution_count": null,
      "outputs": []
    },
    {
      "cell_type": "markdown",
      "metadata": {
        "id": "jRvc6a5EE2kU",
        "colab_type": "text"
      },
      "source": [
        "This model correctly predicts the labels of 24.9% of the test set, which is more than chance (10%), but not yet very good."
      ]
    },
    {
      "cell_type": "markdown",
      "metadata": {
        "id": "cw_nJOPwE2kU",
        "colab_type": "text"
      },
      "source": [
        "## Exercise 1: Improving the network\n",
        "\n",
        "Try to improve your network by adding more layers and neurons. "
      ]
    },
    {
      "cell_type": "code",
      "metadata": {
        "id": "DSFUBvXBE2kV",
        "colab_type": "code",
        "colab": {}
      },
      "source": [
        ""
      ],
      "execution_count": null,
      "outputs": []
    },
    {
      "cell_type": "markdown",
      "metadata": {
        "id": "_ENrfLbwE2kY",
        "colab_type": "text"
      },
      "source": [
        "## Convolution layers\n",
        "Instead of using fully connected layers, we will now build a network with one convolutional layer, which are very suitable for image classification tasks."
      ]
    },
    {
      "cell_type": "code",
      "metadata": {
        "id": "Tw_lzkJlE2kZ",
        "colab_type": "code",
        "colab": {}
      },
      "source": [
        "from keras.layers import Conv2D, MaxPooling2D, Flatten"
      ],
      "execution_count": null,
      "outputs": []
    },
    {
      "cell_type": "markdown",
      "metadata": {
        "id": "K-wDlqWHE2kd",
        "colab_type": "text"
      },
      "source": [
        "Since convolutional neural networks (CNNs) read multi-dimensional data, we should not reshape the data like before. Let's load the data again."
      ]
    },
    {
      "cell_type": "code",
      "metadata": {
        "id": "1JEXM-XNE2kd",
        "colab_type": "code",
        "colab": {}
      },
      "source": [
        "(x_train, y_train), (x_test, y_test) = keras.datasets.cifar10.load_data()"
      ],
      "execution_count": null,
      "outputs": []
    },
    {
      "cell_type": "code",
      "metadata": {
        "id": "mNiZ6qDbE2ki",
        "colab_type": "code",
        "colab": {}
      },
      "source": [
        "x_train.shape"
      ],
      "execution_count": null,
      "outputs": []
    },
    {
      "cell_type": "code",
      "metadata": {
        "id": "yrgRwm9hE2km",
        "colab_type": "code",
        "colab": {}
      },
      "source": [
        "x_train = x_train / 255.0\n",
        "x_test = x_test / 255.0\n",
        "y_train = keras.utils.to_categorical(y_train)\n",
        "y_test = keras.utils.to_categorical(y_test)"
      ],
      "execution_count": null,
      "outputs": []
    },
    {
      "cell_type": "markdown",
      "metadata": {
        "id": "VPxkmxApE2kr",
        "colab_type": "text"
      },
      "source": [
        "Now we build a model, first with a convolutional layer, then a max-pool layer followed by flattening, and then a fully connected output layer."
      ]
    },
    {
      "cell_type": "code",
      "metadata": {
        "id": "3soCXMU8E2kt",
        "colab_type": "code",
        "colab": {}
      },
      "source": [
        "model2 = Sequential()\n",
        "\n",
        "model2.add(Conv2D(filters=64, kernel_size=2, padding='same', activation='relu', input_shape=(32,32, 3))) \n",
        "model2.add(MaxPooling2D(pool_size=2))\n",
        "model2.add(Flatten())\n",
        "model2.add(Dense(10, activation='softmax'))\n",
        "\n",
        "model2.compile(loss='categorical_crossentropy', optimizer='adam', metrics=['accuracy'])"
      ],
      "execution_count": null,
      "outputs": []
    },
    {
      "cell_type": "markdown",
      "metadata": {
        "id": "-NEUdAiZE2kz",
        "colab_type": "text"
      },
      "source": [
        "Let's check the summary description of our model."
      ]
    },
    {
      "cell_type": "code",
      "metadata": {
        "id": "1q2v5BitE2k0",
        "colab_type": "code",
        "colab": {}
      },
      "source": [
        "model2.summary()"
      ],
      "execution_count": null,
      "outputs": []
    },
    {
      "cell_type": "markdown",
      "metadata": {
        "id": "AHnzwxq0E2k5",
        "colab_type": "text"
      },
      "source": [
        "Now we fit and evaluate the new model."
      ]
    },
    {
      "cell_type": "code",
      "metadata": {
        "id": "lcip9VPcE2k6",
        "colab_type": "code",
        "colab": {}
      },
      "source": [
        "model2.fit(x_train, y_train, epochs=10, validation_split=0.1)"
      ],
      "execution_count": null,
      "outputs": []
    },
    {
      "cell_type": "code",
      "metadata": {
        "id": "8X65Kjr0E2k-",
        "colab_type": "code",
        "colab": {}
      },
      "source": [
        "_, test_acc = model2.evaluate(x_test, y_test)\n",
        "print(test_acc)"
      ],
      "execution_count": null,
      "outputs": []
    },
    {
      "cell_type": "markdown",
      "metadata": {
        "id": "-zLEIGDzE2lC",
        "colab_type": "text"
      },
      "source": [
        "Now the training accuracy is 0.73 and the test accuracy is 0.63, already much better than the simple fully connected model."
      ]
    },
    {
      "cell_type": "markdown",
      "metadata": {
        "id": "YLCpzMgRE2lD",
        "colab_type": "text"
      },
      "source": [
        "## Exercise 2: Improving the convolutional network\n",
        "\n",
        "Try to improve the network by adding more convolutional layers and neurons. "
      ]
    },
    {
      "cell_type": "code",
      "metadata": {
        "id": "7LhpNRchE2lE",
        "colab_type": "code",
        "colab": {}
      },
      "source": [
        ""
      ],
      "execution_count": null,
      "outputs": []
    },
    {
      "cell_type": "markdown",
      "metadata": {
        "id": "talpTMzAE2lI",
        "colab_type": "text"
      },
      "source": [
        "## Exercise 3: Full analysis\n",
        "\n",
        "Load the MNIST handwritten digits dataset and perform all steps shown above. Try out different architectures to improve your model!"
      ]
    },
    {
      "cell_type": "code",
      "metadata": {
        "id": "d5Rj5mbiE2lJ",
        "colab_type": "code",
        "colab": {}
      },
      "source": [
        "(x_train, y_train), (x_test, y_test) = keras.datasets.mnist.load_data(path=\"mnist.npz\")"
      ],
      "execution_count": null,
      "outputs": []
    },
    {
      "cell_type": "code",
      "metadata": {
        "id": "_GJ6PrCVE2lS",
        "colab_type": "code",
        "colab": {}
      },
      "source": [
        ""
      ],
      "execution_count": null,
      "outputs": []
    },
    {
      "cell_type": "code",
      "metadata": {
        "id": "vr81qM7ePgIb",
        "colab_type": "code",
        "colab": {}
      },
      "source": [
        ""
      ],
      "execution_count": null,
      "outputs": []
    },
    {
      "cell_type": "code",
      "metadata": {
        "id": "Ig33wlfWPgNW",
        "colab_type": "code",
        "colab": {}
      },
      "source": [
        ""
      ],
      "execution_count": null,
      "outputs": []
    },
    {
      "cell_type": "markdown",
      "metadata": {
        "id": "cx3kKwCQPgtN",
        "colab_type": "text"
      },
      "source": [
        "Hint: For the **CNN**, reshape your data using this code. (The data has only one color channel, so you need to add the channel axis)."
      ]
    },
    {
      "cell_type": "code",
      "metadata": {
        "id": "7B8fCL5mPgLw",
        "colab_type": "code",
        "colab": {}
      },
      "source": [
        "x_train = x_train[:,:,:,np.newaxis] / 255.0\n",
        "x_test = x_test[:,:,:,np.newaxis] / 255.0\n",
        "y_train = keras.utils.to_categorical(y_train)\n",
        "y_test = keras.utils.to_categorical(y_test)"
      ],
      "execution_count": null,
      "outputs": []
    },
    {
      "cell_type": "code",
      "metadata": {
        "id": "ZU85NYc3PgGH",
        "colab_type": "code",
        "colab": {}
      },
      "source": [
        ""
      ],
      "execution_count": null,
      "outputs": []
    }
  ]
}